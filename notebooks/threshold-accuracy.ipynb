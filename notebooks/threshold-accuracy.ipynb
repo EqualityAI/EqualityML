{
 "cells": [
  {
   "cell_type": "code",
   "execution_count": 1,
   "id": "ab958018",
   "metadata": {},
   "outputs": [],
   "source": [
    "from equalityml import FAIR, discrimination_threshold, paired_ttest, binary_threshold_score\n",
    "from sklearn.linear_model import LogisticRegression, SGDClassifier\n",
    "from sklearn.model_selection import train_test_split\n",
    "from sklearn.preprocessing import OneHotEncoder, StandardScaler\n",
    "from sklearn.metrics import accuracy_score, f1_score\n",
    "from sklearn.base import clone\n",
    "import numpy as np\n",
    "import pandas as pd\n",
    "import warnings\n",
    "\n",
    "%matplotlib inline\n",
    "random_seed = 0"
   ]
  },
  {
   "cell_type": "markdown",
   "id": "450e2392",
   "metadata": {},
   "source": [
    "### 1. Train a Machine Learning Model"
   ]
  },
  {
   "cell_type": "code",
   "execution_count": 2,
   "id": "417cb257-bbcf-4103-b0ec-9d9e13e52189",
   "metadata": {},
   "outputs": [],
   "source": [
    "# Dataset Parameters\n",
    "target_var = 'two_year_recid'\n",
    "features = ['juv_fel_count', 'decile_score', 'juv_misd_count', 'juv_other_count', 'priors_count', 'sex', 'age']"
   ]
  },
  {
   "cell_type": "code",
   "execution_count": 3,
   "id": "90e2c41e",
   "metadata": {
    "scrolled": true
   },
   "outputs": [],
   "source": [
    "data = pd.read_csv('../data/compas-scores-two-years.csv') "
   ]
  },
  {
   "cell_type": "code",
   "execution_count": 4,
   "id": "033f1b5a",
   "metadata": {},
   "outputs": [],
   "source": [
    "y = data[target_var]\n",
    "X = data[features]"
   ]
  },
  {
   "cell_type": "code",
   "execution_count": 5,
   "id": "37c48622-835b-4256-966e-2d38f411a1da",
   "metadata": {},
   "outputs": [
    {
     "data": {
      "text/html": [
       "<div>\n",
       "<style scoped>\n",
       "    .dataframe tbody tr th:only-of-type {\n",
       "        vertical-align: middle;\n",
       "    }\n",
       "\n",
       "    .dataframe tbody tr th {\n",
       "        vertical-align: top;\n",
       "    }\n",
       "\n",
       "    .dataframe thead th {\n",
       "        text-align: right;\n",
       "    }\n",
       "</style>\n",
       "<table border=\"1\" class=\"dataframe\">\n",
       "  <thead>\n",
       "    <tr style=\"text-align: right;\">\n",
       "      <th></th>\n",
       "      <th>juv_fel_count</th>\n",
       "      <th>decile_score</th>\n",
       "      <th>juv_misd_count</th>\n",
       "      <th>juv_other_count</th>\n",
       "      <th>priors_count</th>\n",
       "      <th>sex</th>\n",
       "      <th>age</th>\n",
       "    </tr>\n",
       "  </thead>\n",
       "  <tbody>\n",
       "    <tr>\n",
       "      <th>0</th>\n",
       "      <td>0</td>\n",
       "      <td>1</td>\n",
       "      <td>0</td>\n",
       "      <td>0</td>\n",
       "      <td>0</td>\n",
       "      <td>Male</td>\n",
       "      <td>69</td>\n",
       "    </tr>\n",
       "    <tr>\n",
       "      <th>1</th>\n",
       "      <td>0</td>\n",
       "      <td>3</td>\n",
       "      <td>0</td>\n",
       "      <td>0</td>\n",
       "      <td>0</td>\n",
       "      <td>Male</td>\n",
       "      <td>34</td>\n",
       "    </tr>\n",
       "    <tr>\n",
       "      <th>2</th>\n",
       "      <td>0</td>\n",
       "      <td>4</td>\n",
       "      <td>0</td>\n",
       "      <td>1</td>\n",
       "      <td>4</td>\n",
       "      <td>Male</td>\n",
       "      <td>24</td>\n",
       "    </tr>\n",
       "    <tr>\n",
       "      <th>3</th>\n",
       "      <td>0</td>\n",
       "      <td>8</td>\n",
       "      <td>1</td>\n",
       "      <td>0</td>\n",
       "      <td>1</td>\n",
       "      <td>Male</td>\n",
       "      <td>23</td>\n",
       "    </tr>\n",
       "    <tr>\n",
       "      <th>4</th>\n",
       "      <td>0</td>\n",
       "      <td>1</td>\n",
       "      <td>0</td>\n",
       "      <td>0</td>\n",
       "      <td>2</td>\n",
       "      <td>Male</td>\n",
       "      <td>43</td>\n",
       "    </tr>\n",
       "  </tbody>\n",
       "</table>\n",
       "</div>"
      ],
      "text/plain": [
       "   juv_fel_count  decile_score  juv_misd_count  juv_other_count  priors_count  \\\n",
       "0              0             1               0                0             0   \n",
       "1              0             3               0                0             0   \n",
       "2              0             4               0                1             4   \n",
       "3              0             8               1                0             1   \n",
       "4              0             1               0                0             2   \n",
       "\n",
       "    sex  age  \n",
       "0  Male   69  \n",
       "1  Male   34  \n",
       "2  Male   24  \n",
       "3  Male   23  \n",
       "4  Male   43  "
      ]
     },
     "execution_count": 5,
     "metadata": {},
     "output_type": "execute_result"
    }
   ],
   "source": [
    "X.head()"
   ]
  },
  {
   "cell_type": "code",
   "execution_count": 6,
   "id": "392e1749",
   "metadata": {},
   "outputs": [],
   "source": [
    "# Define which columns should be encoded\n",
    "columns_to_encode = ['sex']\n",
    "\n",
    "# Instantiate encoder\n",
    "ohe = OneHotEncoder(sparse=False, drop = 'if_binary')\n",
    "\n",
    "# Scale \n",
    "encoded_data = ohe.fit_transform(X[columns_to_encode])\n",
    "\n",
    "# Concatenate (Column-Bind) Processed Columns Back Together\n",
    "encoded_df = pd.DataFrame(encoded_data, columns = columns_to_encode)\n",
    "\n",
    "processed_data = pd.concat([X.drop(columns=columns_to_encode), encoded_df], axis=1)\n",
    "processed_data = pd.DataFrame(processed_data, columns = X.columns)"
   ]
  },
  {
   "cell_type": "code",
   "execution_count": 7,
   "id": "22d95660-9706-4fca-9700-7675de5e2e18",
   "metadata": {},
   "outputs": [
    {
     "data": {
      "text/html": [
       "<div>\n",
       "<style scoped>\n",
       "    .dataframe tbody tr th:only-of-type {\n",
       "        vertical-align: middle;\n",
       "    }\n",
       "\n",
       "    .dataframe tbody tr th {\n",
       "        vertical-align: top;\n",
       "    }\n",
       "\n",
       "    .dataframe thead th {\n",
       "        text-align: right;\n",
       "    }\n",
       "</style>\n",
       "<table border=\"1\" class=\"dataframe\">\n",
       "  <thead>\n",
       "    <tr style=\"text-align: right;\">\n",
       "      <th></th>\n",
       "      <th>juv_fel_count</th>\n",
       "      <th>decile_score</th>\n",
       "      <th>juv_misd_count</th>\n",
       "      <th>juv_other_count</th>\n",
       "      <th>priors_count</th>\n",
       "      <th>sex</th>\n",
       "      <th>age</th>\n",
       "    </tr>\n",
       "  </thead>\n",
       "  <tbody>\n",
       "    <tr>\n",
       "      <th>0</th>\n",
       "      <td>0</td>\n",
       "      <td>1</td>\n",
       "      <td>0</td>\n",
       "      <td>0</td>\n",
       "      <td>0</td>\n",
       "      <td>1.0</td>\n",
       "      <td>69</td>\n",
       "    </tr>\n",
       "    <tr>\n",
       "      <th>1</th>\n",
       "      <td>0</td>\n",
       "      <td>3</td>\n",
       "      <td>0</td>\n",
       "      <td>0</td>\n",
       "      <td>0</td>\n",
       "      <td>1.0</td>\n",
       "      <td>34</td>\n",
       "    </tr>\n",
       "    <tr>\n",
       "      <th>2</th>\n",
       "      <td>0</td>\n",
       "      <td>4</td>\n",
       "      <td>0</td>\n",
       "      <td>1</td>\n",
       "      <td>4</td>\n",
       "      <td>1.0</td>\n",
       "      <td>24</td>\n",
       "    </tr>\n",
       "    <tr>\n",
       "      <th>3</th>\n",
       "      <td>0</td>\n",
       "      <td>8</td>\n",
       "      <td>1</td>\n",
       "      <td>0</td>\n",
       "      <td>1</td>\n",
       "      <td>1.0</td>\n",
       "      <td>23</td>\n",
       "    </tr>\n",
       "    <tr>\n",
       "      <th>4</th>\n",
       "      <td>0</td>\n",
       "      <td>1</td>\n",
       "      <td>0</td>\n",
       "      <td>0</td>\n",
       "      <td>2</td>\n",
       "      <td>1.0</td>\n",
       "      <td>43</td>\n",
       "    </tr>\n",
       "  </tbody>\n",
       "</table>\n",
       "</div>"
      ],
      "text/plain": [
       "   juv_fel_count  decile_score  juv_misd_count  juv_other_count  priors_count  \\\n",
       "0              0             1               0                0             0   \n",
       "1              0             3               0                0             0   \n",
       "2              0             4               0                1             4   \n",
       "3              0             8               1                0             1   \n",
       "4              0             1               0                0             2   \n",
       "\n",
       "   sex  age  \n",
       "0  1.0   69  \n",
       "1  1.0   34  \n",
       "2  1.0   24  \n",
       "3  1.0   23  \n",
       "4  1.0   43  "
      ]
     },
     "execution_count": 7,
     "metadata": {},
     "output_type": "execute_result"
    }
   ],
   "source": [
    "processed_data.head()"
   ]
  },
  {
   "cell_type": "code",
   "execution_count": 8,
   "id": "721e8581",
   "metadata": {},
   "outputs": [],
   "source": [
    "# Training and testing dataset split\n",
    "X_train, X_test, y_train, y_test = train_test_split(processed_data, y, test_size=0.2, random_state=random_seed)"
   ]
  },
  {
   "cell_type": "code",
   "execution_count": 9,
   "id": "9c28d445",
   "metadata": {
    "scrolled": true
   },
   "outputs": [
    {
     "data": {
      "text/plain": [
       "LogisticRegression()"
      ]
     },
     "execution_count": 9,
     "metadata": {},
     "output_type": "execute_result"
    }
   ],
   "source": [
    "# Train a machine learning model (for example LogisticRegression)\n",
    "orig_ml_model = LogisticRegression()\n",
    "orig_ml_model.fit(X_train, y_train)"
   ]
  },
  {
   "cell_type": "code",
   "execution_count": 10,
   "id": "99c9479d",
   "metadata": {},
   "outputs": [],
   "source": [
    "testing_data = pd.concat([X_test, y_test], axis=1)\n",
    "training_data = pd.concat([X_train, y_train], axis=1)"
   ]
  },
  {
   "cell_type": "markdown",
   "id": "0ced551e-100f-486c-9890-d01e2cd47d92",
   "metadata": {},
   "source": [
    "### 2. Optimal Discrimination Threshold for Accuracy"
   ]
  },
  {
   "cell_type": "code",
   "execution_count": 11,
   "id": "69cfde39-494f-455c-9c78-7d517caf0dfe",
   "metadata": {},
   "outputs": [
    {
     "name": "stderr",
     "output_type": "stream",
     "text": [
      "100%|██████████| 10/10 [00:01<00:00,  7.98it/s]\n"
     ]
    },
    {
     "data": {
      "image/png": "[encoded data removed]",
      "text/plain": [
       "<Figure size 640x480 with 1 Axes>"
      ]
     },
     "metadata": {},
     "output_type": "display_data"
    },
    {
     "name": "stdout",
     "output_type": "stream",
     "text": [
      "Discrimination Threshold = 0.485\n"
     ]
    }
   ],
   "source": [
    "decision_maker = ['accuracy', 'max']\n",
    "scoring = \"accuracy\"\n",
    "# Discrimination Threshold\n",
    "threshold = discrimination_threshold(orig_ml_model, \n",
    "                                     target_var,\n",
    "                                     training_data=training_data,\n",
    "                                     testing_data=testing_data,\n",
    "                                     decision_maker=decision_maker,\n",
    "                                     metrics=[decision_maker[0]], \n",
    "                                     show=True,\n",
    "                                     random_seed=random_seed)\n",
    "print(f\"Discrimination Threshold = {threshold:.3f}\")"
   ]
  },
  {
   "cell_type": "code",
   "execution_count": 12,
   "id": "4304469c-4f45-4e5d-800d-853fcf7bb81f",
   "metadata": {},
   "outputs": [
    {
     "name": "stdout",
     "output_type": "stream",
     "text": [
      "Original accuracy score = 0.681\n"
     ]
    }
   ],
   "source": [
    "orig_acc_score = binary_threshold_score(orig_ml_model, \n",
    "                                        X_test, \n",
    "                                        y_test,\n",
    "                                        scoring=scoring,  \n",
    "                                        threshold=threshold)\n",
    "print(f\"Original accuracy score = {orig_acc_score:.3f}\")"
   ]
  },
  {
   "cell_type": "markdown",
   "id": "7089a26b-0199-4210-b1fb-9eb4a71f1495",
   "metadata": {},
   "source": [
    "### 3. Fairness Metric Assessment"
   ]
  },
  {
   "cell_type": "code",
   "execution_count": 13,
   "id": "7e0e58a2",
   "metadata": {},
   "outputs": [],
   "source": [
    "# Instantiate FAIR object\n",
    "fair_object = FAIR(ml_model=orig_ml_model,\n",
    "                   training_data=training_data,\n",
    "                   testing_data=testing_data, \n",
    "                   target_variable=target_var,\n",
    "                   protected_variable=\"sex\", \n",
    "                   privileged_class=1.0,\n",
    "                   threshold=threshold,\n",
    "                   random_seed=random_seed) "
   ]
  },
  {
   "cell_type": "code",
   "execution_count": 14,
   "id": "2c2babfc",
   "metadata": {},
   "outputs": [
    {
     "name": "stdout",
     "output_type": "stream",
     "text": [
      "Original Fairness Metric = 0.434\n"
     ]
    }
   ],
   "source": [
    "metric_name='statistical_parity_ratio'\n",
    "orig_fairness_metric_score = fair_object.fairness_metric(metric_name)\n",
    "print(f\"Original Fairness Metric = {orig_fairness_metric_score:.3f}\")"
   ]
  },
  {
   "cell_type": "markdown",
   "id": "12be4fed-1ee1-4173-b2a8-fa233299cadd",
   "metadata": {
    "tags": []
   },
   "source": [
    "### 4. Compare Performance of Each Mitigation Method"
   ]
  },
  {
   "cell_type": "code",
   "execution_count": 15,
   "id": "96389970",
   "metadata": {},
   "outputs": [
    {
     "name": "stdout",
     "output_type": "stream",
     "text": [
      "Available bias mitigation methods for 'statistical_parity_ratio' are:\n",
      "1 'disparate-impact-remover'\n",
      "2 'resampling'\n",
      "3 'resampling-preferential'\n",
      "4 'reweighing'\n"
     ]
    }
   ],
   "source": [
    "# Print available bias mitigation methods for statistical_parity_ratio\n",
    "fair_object.print_bias_mitigation_methods(metric_name)"
   ]
  },
  {
   "cell_type": "code",
   "execution_count": 16,
   "id": "a0b07834-61b4-4296-9226-a6aa549f9f8b",
   "metadata": {},
   "outputs": [
    {
     "name": "stderr",
     "output_type": "stream",
     "text": [
      "100%|██████████| 1/1 [00:00<00:00, 13.29it/s]\n",
      "100%|██████████| 1/1 [00:00<00:00, 14.36it/s]\n",
      "100%|██████████| 1/1 [00:00<00:00, 13.98it/s]\n",
      "100%|██████████| 1/1 [00:00<00:00, 14.14it/s]\n"
     ]
    },
    {
     "data": {
      "image/png": "[encoded data removed]",
      "text/plain": [
       "<Figure size 640x480 with 1 Axes>"
      ]
     },
     "metadata": {},
     "output_type": "display_data"
    },
    {
     "name": "stdout",
     "output_type": "stream",
     "text": [
      "                          accuracy  statistical_parity_ratio  \\\n",
      "reference                 0.680527                  0.434186   \n",
      "disparate-impact-remover  0.687457                  0.464819   \n",
      "resampling                0.688843                  0.908648   \n",
      "resampling-preferential   0.676369                  0.773537   \n",
      "reweighing                0.688843                  0.881557   \n",
      "\n",
      "                          discrimination_threshold  \n",
      "reference                                 0.484848  \n",
      "disparate-impact-remover                  0.454545  \n",
      "resampling                                0.424242  \n",
      "resampling-preferential                   0.444444  \n",
      "reweighing                                0.424242  \n"
     ]
    }
   ],
   "source": [
    "df = fair_object.compare_mitigation_methods(metric_name=metric_name, \n",
    "                                            scoring=scoring, \n",
    "                                            show=True,\n",
    "                                            compute_discrimination_threshold=True,\n",
    "                                            decision_maker=decision_maker)\n",
    "print(df)"
   ]
  },
  {
   "cell_type": "markdown",
   "id": "50f42439",
   "metadata": {},
   "source": [
    "### 5. Apply Reweighing Mitigation and Re-evaluate F1 Score and Fairness Metric"
   ]
  },
  {
   "cell_type": "code",
   "execution_count": 17,
   "id": "c52cefb8",
   "metadata": {},
   "outputs": [
    {
     "data": {
      "text/plain": [
       "LogisticRegression()"
      ]
     },
     "execution_count": 17,
     "metadata": {},
     "output_type": "execute_result"
    }
   ],
   "source": [
    "mitigation_method = \"reweighing\"\n",
    "mitigation = fair_object.bias_mitigation(mitigation_method = mitigation_method)\n",
    "\n",
    "# extract mitigated weights\n",
    "mitigated_weights = mitigation['weights']\n",
    "\n",
    "# Train the second machine learning model using the mitigated weights\n",
    "ml_model = clone(orig_ml_model)\n",
    "ml_model.fit(X_train, y_train, sample_weight=mitigated_weights)"
   ]
  },
  {
   "cell_type": "code",
   "execution_count": 18,
   "id": "6c866ae1-f21d-4131-af51-b2c5dfe0f698",
   "metadata": {},
   "outputs": [
    {
     "name": "stderr",
     "output_type": "stream",
     "text": [
      "100%|██████████| 1/1 [00:00<00:00, 13.57it/s]\n"
     ]
    },
    {
     "data": {
      "image/png": "[encoded data removed]",
      "text/plain": [
       "<Figure size 640x480 with 1 Axes>"
      ]
     },
     "metadata": {},
     "output_type": "display_data"
    },
    {
     "name": "stdout",
     "output_type": "stream",
     "text": [
      "Discrimination Threshold = 0.424\n"
     ]
    }
   ],
   "source": [
    "# We can also find the optimal discrimination threshold for this new model\n",
    "threshold = discrimination_threshold(ml_model, \n",
    "                                     target_var,\n",
    "                                     testing_data=testing_data,\n",
    "                                     decision_maker=decision_maker,\n",
    "                                     metrics=[decision_maker[0]], \n",
    "                                     show=True,\n",
    "                                     model_training=False,\n",
    "                                     random_seed=random_seed)\n",
    "print(f\"Discrimination Threshold = {threshold:.3f}\")"
   ]
  },
  {
   "cell_type": "code",
   "execution_count": 19,
   "id": "67ac3dbe-f8e1-4b47-bb97-5c9ab6b1e2b3",
   "metadata": {},
   "outputs": [
    {
     "name": "stdout",
     "output_type": "stream",
     "text": [
      "Mitigated accuracy score = 0.689\n"
     ]
    }
   ],
   "source": [
    "acc_score = binary_threshold_score(ml_model, \n",
    "                                   X_test, \n",
    "                                   y_test, \n",
    "                                   scoring=scoring, \n",
    "                                   threshold=threshold)\n",
    "print(f\"Mitigated accuracy score = {acc_score:.3f}\")"
   ]
  },
  {
   "cell_type": "code",
   "execution_count": 20,
   "id": "21ef4274-d148-4ac6-9b12-c74c88d272e9",
   "metadata": {},
   "outputs": [],
   "source": [
    "# Instantiate FAIR object\n",
    "fair_object = FAIR(ml_model=ml_model,\n",
    "                   training_data=training_data,\n",
    "                   testing_data=testing_data, \n",
    "                   target_variable=target_var,\n",
    "                   protected_variable=\"sex\", \n",
    "                   privileged_class=1.0,\n",
    "                   threshold=threshold,\n",
    "                   random_seed=random_seed) "
   ]
  },
  {
   "cell_type": "code",
   "execution_count": 21,
   "id": "e7a2d35a-14cd-409f-a16f-ef0d0b7d286c",
   "metadata": {},
   "outputs": [
    {
     "name": "stdout",
     "output_type": "stream",
     "text": [
      "Mitigated Fairness Metric = 0.988\n"
     ]
    }
   ],
   "source": [
    "fairness_metric_score = fair_object.fairness_metric(metric_name)\n",
    "print(f\"Mitigated Fairness Metric = {fairness_metric_score:.3f}\")"
   ]
  },
  {
   "cell_type": "code",
   "execution_count": 22,
   "id": "8b795994-5432-46c0-9a3a-24ee5c630535",
   "metadata": {},
   "outputs": [
    {
     "name": "stdout",
     "output_type": "stream",
     "text": [
      "Original Accuracy score = 0.681 and Mitigated Accuracy score = 0.689\n",
      "Orginal Fairness Score = 0.434 and Mitigated Fairness Score = 0.988\n"
     ]
    }
   ],
   "source": [
    "print(f\"Original Accuracy score = {orig_acc_score:.3f} and Mitigated Accuracy score = {acc_score:.3f}\")\n",
    "print(f\"Orginal Fairness Score = {orig_fairness_metric_score:.3f} and Mitigated Fairness Score = {fairness_metric_score:.3f}\")"
   ]
  },
  {
   "cell_type": "markdown",
   "id": "619cc2f7-5d99-4f61-bc56-ac54c23f167b",
   "metadata": {},
   "source": [
    "### 6. Paired t Test"
   ]
  },
  {
   "cell_type": "code",
   "execution_count": 23,
   "id": "88ca3648-ce64-4299-bf45-87cb62b96b36",
   "metadata": {},
   "outputs": [
    {
     "name": "stderr",
     "output_type": "stream",
     "text": [
      "100%|██████████| 5/5 [00:00<00:00,  5.12it/s]"
     ]
    },
    {
     "name": "stdout",
     "output_type": "stream",
     "text": [
      "5x2cv paired t-test using fairness metric. (chi2, p) = (-4.712592609978873, 0.005277389967108732)\n"
     ]
    },
    {
     "name": "stderr",
     "output_type": "stream",
     "text": [
      "\n"
     ]
    }
   ],
   "source": [
    "# Paired t test between original Machine Learning model and \"appyling the mitigation method\".\n",
    "# Fairness metric comparison\n",
    "results = paired_ttest(orig_ml_model,\n",
    "                        pd.concat([training_data, testing_data]),\n",
    "                        target_var,\n",
    "                        method=\"5x2cv\",\n",
    "                        threshold=threshold,\n",
    "                        fair_object=fair_object,\n",
    "                        mitigation_method=mitigation_method,\n",
    "                        scoring=metric_name,\n",
    "                        random_seed=random_seed)\n",
    "print(\"5x2cv paired t-test using fairness metric. (chi2, p) =\", results)"
   ]
  },
  {
   "cell_type": "code",
   "execution_count": 24,
   "id": "dfc306a6-14a8-4caf-a0b0-de3a145f7f62",
   "metadata": {},
   "outputs": [
    {
     "name": "stderr",
     "output_type": "stream",
     "text": [
      "100%|██████████| 5/5 [00:00<00:00,  6.26it/s]"
     ]
    },
    {
     "name": "stdout",
     "output_type": "stream",
     "text": [
      "5x2cv paired t-test using accuracy metric. (chi2, p) = (1.6225656822707595, 0.1656093807146978)\n"
     ]
    },
    {
     "name": "stderr",
     "output_type": "stream",
     "text": [
      "\n"
     ]
    }
   ],
   "source": [
    "# Paired t test between original Machine Learning model and \"appyling the mitigation method\".\n",
    "# Accuracy comparison\n",
    "results = paired_ttest(orig_ml_model,\n",
    "                        pd.concat([training_data, testing_data]),\n",
    "                        target_var,\n",
    "                        method=\"5x2cv\",\n",
    "                        threshold=threshold,\n",
    "                        fair_object=fair_object,\n",
    "                        mitigation_method=mitigation_method,\n",
    "                        scoring=scoring,\n",
    "                        random_seed=random_seed)\n",
    "print(\"5x2cv paired t-test using accuracy metric. (chi2, p) =\", results)"
   ]
  },
  {
   "cell_type": "code",
   "execution_count": null,
   "id": "dbbcc81c-9b3f-4246-b351-3583a298d6ed",
   "metadata": {},
   "outputs": [],
   "source": []
  }
 ],
 "metadata": {
  "kernelspec": {
   "display_name": "Python 3 (ipykernel)",
   "language": "python",
   "name": "python3"
  },
  "language_info": {
   "codemirror_mode": {
    "name": "ipython",
    "version": 3
   },
   "file_extension": ".py",
   "mimetype": "text/x-python",
   "name": "python",
   "nbconvert_exporter": "python",
   "pygments_lexer": "ipython3",
   "version": "3.8.15"
  }
 },
 "nbformat": 4,
 "nbformat_minor": 5
}
